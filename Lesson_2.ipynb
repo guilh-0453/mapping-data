{
  "nbformat": 4,
  "nbformat_minor": 0,
  "metadata": {
    "colab": {
      "provenance": [],
      "authorship_tag": "ABX9TyM/xVNs9SoOqz53CiDwokWG",
      "include_colab_link": true
    },
    "kernelspec": {
      "name": "python3",
      "display_name": "Python 3"
    },
    "language_info": {
      "name": "python"
    }
  },
  "cells": [
    {
      "cell_type": "markdown",
      "metadata": {
        "id": "view-in-github",
        "colab_type": "text"
      },
      "source": [
        "<a href=\"https://colab.research.google.com/github/guilh-0453/mapping-data/blob/main/Lesson_2.ipynb\" target=\"_parent\"><img src=\"https://colab.research.google.com/assets/colab-badge.svg\" alt=\"Open In Colab\"/></a>"
      ]
    },
    {
      "cell_type": "code",
      "execution_count": null,
      "metadata": {
        "id": "K2dKPdtBGXO7"
      },
      "outputs": [],
      "source": [
        "import os\n",
        "\n",
        "directory = os.listdir(\"/sbin\")\n",
        "len(directory)\n",
        "\n",
        "lista = {\"files\": [], \"directories\": []}\n",
        "sbin_paths = [os.path.join(\"/dev\", item) for item in directory]\n",
        "\n",
        "for path in sbin_paths:\n",
        "  if os.path.isdir(path):\n",
        "    lista[\"directories\"].append(path)\n",
        "  if os.path.isfile(path):\n",
        "    lista[\"files\"].append(path)\n",
        "sbin_paths"
      ]
    },
    {
      "cell_type": "code",
      "source": [
        "contatos = {\"nome\": [\"André\", \"Alfredo\"], \"numero\": [\"991152371\",\"996854516\"], \"nome da mae\": [\"Maria\", \"Lúcia\"]}\n",
        "contatos.get(\"numero\", \"Desconhecido\")[0]\n",
        "\n",
        "for name, numero  in contatos.items():\n",
        "    print(name, numero)\n"
      ],
      "metadata": {
        "colab": {
          "base_uri": "https://localhost:8080/"
        },
        "id": "nGjQGcs6Izqr",
        "outputId": "2b74a9e9-45ad-48ea-bad4-7a3b6cffae93"
      },
      "execution_count": 10,
      "outputs": [
        {
          "output_type": "stream",
          "name": "stdout",
          "text": [
            "nome ['André', 'Alfredo']\n",
            "numero ['991152371', '996854516']\n",
            "nome da mae ['Maria', 'Lúcia']\n"
          ]
        }
      ]
    },
    {
      "cell_type": "code",
      "source": [
        "contatos.items()"
      ],
      "metadata": {
        "colab": {
          "base_uri": "https://localhost:8080/"
        },
        "id": "W2sMJOkRKxFJ",
        "outputId": "25a72404-5ac7-4fdc-856f-a1d851d28120"
      },
      "execution_count": 9,
      "outputs": [
        {
          "output_type": "execute_result",
          "data": {
            "text/plain": [
              "dict_items([('nome', ['André', 'Alfredo']), ('numero', ['991152371', '996854516']), ('nome da mae', ['Maria', 'Lúcia'])])"
            ]
          },
          "metadata": {},
          "execution_count": 9
        }
      ]
    },
    {
      "cell_type": "code",
      "source": [
        "sizes = {}\n",
        "\n",
        "sizes"
      ],
      "metadata": {
        "id": "z31Wy8VDjueI"
      },
      "execution_count": null,
      "outputs": []
    }
  ]
}