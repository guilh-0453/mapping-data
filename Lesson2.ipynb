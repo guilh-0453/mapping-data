{
  "nbformat": 4,
  "nbformat_minor": 0,
  "metadata": {
    "colab": {
      "provenance": []
    },
    "kernelspec": {
      "name": "python3",
      "display_name": "Python 3"
    },
    "language_info": {
      "name": "python"
    }
  },
  "cells": [
    {
      "cell_type": "code",
      "execution_count": 3,
      "metadata": {
        "id": "K2dKPdtBGXO7"
      },
      "outputs": [],
      "source": [
        "#Here, we are importing libraries that allow data summarization, conversion to JSON files, and graph plots, respectively\n",
        "import pandas as pd\n",
        "import json\n",
        "import matplotlib.pyplot as plt\n",
        "\n",
        "#Reading the database in csv via pandas\n",
        "df = pd.read_csv('/content/wine-ratings.csv')\n",
        "\n",
        "#Drop the first column of the database in order to clarify the ID records\n",
        "df = df.drop(columns=['Unnamed: 0'])\n",
        "\n",
        "#Choosing the filtering criteria e storing it in a resulting data frame\n",
        "rslt_df = df[(df['rating'] > 89) &\n",
        "             (df['rating'] < 94) &\n",
        "              df[\"region\"].isin([\"California\"])]\n",
        "\n",
        "#Converting the resulting data frame to JSON format\n",
        "df2 = rslt_df.to_json()\n",
        "\n",
        "#Applying the procedure learned in the course lessons to create a JSON file which contains the resulting data frame\n",
        "with open(\"result_dataframe.json\", \"w\") as outfile:\n",
        "    json.dump(df2, outfile)"
      ]
    },
    {
      "cell_type": "code",
      "source": [
        "#Extracting the data from the column \"rating\"\n",
        "rating = df[\"rating\"]\n",
        "\n",
        "#Using the method 'describe' for highlighting some statistical parameters from the data\n",
        "print(rating.describe())"
      ],
      "metadata": {
        "colab": {
          "base_uri": "https://localhost:8080/"
        },
        "id": "eBsJ4zDo3dvj",
        "outputId": "f0e335d1-5c1a-4461-d7c2-4627f55a7444"
      },
      "execution_count": 10,
      "outputs": [
        {
          "output_type": "stream",
          "name": "stdout",
          "text": [
            "count    32780.000000\n",
            "mean        91.186608\n",
            "std          2.190391\n",
            "min         85.000000\n",
            "25%         90.000000\n",
            "50%         91.000000\n",
            "75%         92.000000\n",
            "max         99.000000\n",
            "Name: rating, dtype: float64\n"
          ]
        }
      ]
    },
    {
      "cell_type": "code",
      "source": [
        "#Adjusting the figure size for visualizing purposes\n",
        "plt.figure(figsize=(10,6))\n",
        "\n",
        "#Plotting boxplot chart to analyze the\n",
        "plt.subplot(1, 2, 1) # row 1, col 2 index 1\n",
        "plt.boxplot(rating);\n",
        "plt.title('Box plot - Wine rating')\n",
        "plt.xlabel('')\n",
        "plt.ylabel('Rating')\n",
        "plt.xticks([1],['Data'])\n",
        "\n",
        "#Plotting a histogram to analyze the distribution of the wine ratings\n",
        "plt.subplot(1, 2, 2) # row 1, col 2 index 2\n",
        "plt.hist(rating, bins = 10);\n",
        "plt.title('Histogram - Wine rating')\n",
        "plt.xlabel('Rating')\n",
        "plt.ylabel('Frequency')\n",
        "\n",
        "#Adjusting the spacing between the plots for visualizing purposes\n",
        "plt.subplots_adjust(left=0.1,\n",
        "                    bottom=0.1,\n",
        "                    right=0.9,\n",
        "                    top=0.9,\n",
        "                    wspace=0.8,\n",
        "                    hspace=0.8)\n"
      ],
      "metadata": {
        "colab": {
          "base_uri": "https://localhost:8080/",
          "height": 423
        },
        "id": "1SL1vLYI01_C",
        "outputId": "34125cd3-192b-4a60-db12-315e449b8213"
      },
      "execution_count": 39,
      "outputs": [
        {
          "output_type": "display_data",
          "data": {
            "text/plain": [
              "<Figure size 720x432 with 2 Axes>"
            ],
            "image/png": "[encoded data removed]"
          },
          "metadata": {
            "needs_background": "light"
          }
        }
      ]
    }
  ]
}
