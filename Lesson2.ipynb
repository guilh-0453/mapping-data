{
  "nbformat": 4,
  "nbformat_minor": 0,
  "metadata": {
    "colab": {
      "provenance": [],
      "authorship_tag": "ABX9TyOYAVOn+5pvg97k8NJVZfG8",
      "include_colab_link": true
    },
    "kernelspec": {
      "name": "python3",
      "display_name": "Python 3"
    },
    "language_info": {
      "name": "python"
    }
  },
  "cells": [
    {
      "cell_type": "markdown",
      "metadata": {
        "id": "view-in-github",
        "colab_type": "text"
      },
      "source": [
        "<a href=\"https://colab.research.google.com/github/guilh-0453/mapping-data/blob/main/Lesson2.ipynb\" target=\"_parent\"><img src=\"https://colab.research.google.com/assets/colab-badge.svg\" alt=\"Open In Colab\"/></a>"
      ]
    },
    {
      "cell_type": "code",
      "execution_count": 74,
      "metadata": {
        "id": "K2dKPdtBGXO7"
      },
      "outputs": [],
      "source": [
        "import pandas as pd\n",
        "import json\n",
        "import matplotlib.pyplot as plt\n",
        "\n",
        "df = pd.read_csv('/content/wine-ratings.csv')\n",
        "\n",
        "df = df.drop(columns=['Unnamed: 0'])\n",
        "\n",
        "rslt_df = df[(df['rating'] > 89) &\n",
        "             (df['rating'] < 94) &\n",
        "              df[\"region\"].isin([\"California\"])]\n",
        "\n",
        "#print(rslt_df)\n",
        "\n",
        "df2 = rslt_df.to_json()\n",
        "#print(df2)\n",
        "\n",
        "with open(\"result_dataframe.json\", \"w\") as outfile:\n",
        "    json.dump(df2, outfile)"
      ]
    },
    {
      "cell_type": "code",
      "source": [
        "x = df[\"rating\"]\n",
        "\n",
        "print(x.describe())"
      ],
      "metadata": {
        "colab": {
          "base_uri": "https://localhost:8080/"
        },
        "id": "eBsJ4zDo3dvj",
        "outputId": "c19f2504-1849-469d-e034-f78932a420c2"
      },
      "execution_count": 35,
      "outputs": [
        {
          "output_type": "stream",
          "name": "stdout",
          "text": [
            "count    32780.000000\n",
            "mean        91.186608\n",
            "std          2.190391\n",
            "min         85.000000\n",
            "25%         90.000000\n",
            "50%         91.000000\n",
            "75%         92.000000\n",
            "max         99.000000\n",
            "Name: rating, dtype: float64\n"
          ]
        }
      ]
    },
    {
      "cell_type": "code",
      "source": [
        "plt.boxplot(x)\n",
        "plt.figure()\n",
        "plt.hist(x, bins = 10)"
      ],
      "metadata": {
        "colab": {
          "base_uri": "https://localhost:8080/",
          "height": 582
        },
        "id": "1SL1vLYI01_C",
        "outputId": "30113c46-9f90-459d-9f27-b5917c386202"
      },
      "execution_count": 44,
      "outputs": [
        {
          "output_type": "execute_result",
          "data": {
            "text/plain": [
              "(array([ 481.,  819., 3192., 9826., 6031., 7978., 1918., 1840.,  333.,\n",
              "         362.]),\n",
              " array([85. , 86.4, 87.8, 89.2, 90.6, 92. , 93.4, 94.8, 96.2, 97.6, 99. ]),\n",
              " <a list of 10 Patch objects>)"
            ]
          },
          "metadata": {},
          "execution_count": 44
        },
        {
          "output_type": "display_data",
          "data": {
            "text/plain": [
              "<Figure size 432x288 with 1 Axes>"
            ],
            "image/png": "[encoded data removed]"
          },
          "metadata": {
            "needs_background": "light"
          }
        },
        {
          "output_type": "display_data",
          "data": {
            "text/plain": [
              "<Figure size 432x288 with 1 Axes>"
            ],
            "image/png": "[encoded data removed]"
          },
          "metadata": {
            "needs_background": "light"
          }
        }
      ]
    }
  ]
}